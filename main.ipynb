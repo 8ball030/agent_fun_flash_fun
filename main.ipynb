{
 "cells": [
  {
   "cell_type": "markdown",
   "id": "d7e5e5c2-593d-4d25-83c4-45faf89c9802",
   "metadata": {},
   "source": [
    "# Agent fun slippage Adjustment\n",
    "\n",
    "Problem statement.\n",
    "\n",
    "Agent.fun implements an nuleash function.\n",
    "\n",
    "The unleash function requires that slipage be <3%\n",
    "\n",
    "Due to the sucess of the AGNT ticker, which has accrued 139ETH\n",
    "\n",
    "The price impact of the purchase is expected to be signficantly greater than this.\n",
    "\n",
    "\n",
    "\n",
    "balancer_pool = \"https://balancer.fi/pools/base/v2/0x5332584890d6e415a6dc910254d6430b8aab7e69000200000000000000000103\""
   ]
  },
  {
   "cell_type": "code",
   "execution_count": 1,
   "id": "26f0935e-c165-4004-a227-fa0a30c91884",
   "metadata": {},
   "outputs": [],
   "source": [
    "olas_address = '0x54330d28ca3357f294334bdc454a032e7f353416'\n",
    "usdc_address = '0x833589fcd6edb6e08f4c7c32d4f71b54bda02913'"
   ]
  },
  {
   "cell_type": "code",
   "execution_count": 2,
   "id": "4c1555cd-1b96-47fb-bb24-20d4f88b5e7a",
   "metadata": {},
   "outputs": [
    {
     "data": {
      "text/plain": [
       "1.6358612912320272"
      ]
     },
     "execution_count": 2,
     "metadata": {},
     "output_type": "execute_result"
    }
   ],
   "source": [
    "token_a_pool_amt = 177350\n",
    "token_b_pool_amt = 290120\n",
    "\n",
    "cur_price = token_b_pool_amt / token_a_pool_amt\n",
    "cur_price"
   ]
  },
  {
   "cell_type": "code",
   "execution_count": 3,
   "id": "c0ea145e-c7bd-4237-ad8f-07599572077a",
   "metadata": {},
   "outputs": [
    {
     "data": {
      "text/plain": [
       "472600"
      ]
     },
     "execution_count": 3,
     "metadata": {},
     "output_type": "execute_result"
    }
   ],
   "source": [
    "eth_price = 3400\n",
    "eth_qty = 139\n",
    "eth_in_usd = eth_price * eth_qty\n",
    "eth_in_usd"
   ]
  },
  {
   "cell_type": "code",
   "execution_count": 7,
   "id": "fc547aad-ca2c-4d9b-931d-c2cf6ff98d95",
   "metadata": {},
   "outputs": [
    {
     "name": "stdout",
     "output_type": "stream",
     "text": [
      "Price Impact: 2.90%\n"
     ]
    }
   ],
   "source": [
    "token_a_pool_amt = 177350\n",
    "token_b_pool_amt = 290120\n",
    "\n",
    "cur_price = token_b_pool_amt / token_a_pool_amt\n",
    "cur_price\n",
    "\n",
    "# pulled from the final step such that we can verify the amount\n",
    "additional_funds = 17893116\n",
    "\n",
    "def calculate_price_impact_with_fee(reserve_token_a, reserve_token_b, token_b_amount, fee_rate=0.003):\n",
    "    # Effective token_b amount after fee\n",
    "    effective_token_b = token_b_amount * (1 - fee_rate)\n",
    "    \n",
    "    # Current price of token_a in terms of token_b\n",
    "    p_current = reserve_token_b / reserve_token_a\n",
    "    \n",
    "    # Token_a received during the trade\n",
    "    token_a_received = reserve_token_a - (reserve_token_a * reserve_token_b) / (reserve_token_b + effective_token_b)\n",
    "    \n",
    "    # Average execution price\n",
    "    p_avg = token_b_amount / token_a_received  # Using the full token_b_amount (pre-fee) for effective price\n",
    "    \n",
    "    # Price impact\n",
    "    price_impact = ((p_avg - p_current) / p_current) * 100\n",
    "\n",
    "    return price_impact\n",
    "\n",
    "# Example usage:\n",
    "reserve_a = token_a_pool_amt  # Example reserve of token_a\n",
    "reserve_b = token_b_pool_amt + additional_funds # Example reserve of token_b\n",
    "trade_amount_b = eth_in_usd  # Amount of token_b to spend\n",
    "fee_rate = 0.003  # 0.3% fee\n",
    "\n",
    "impact = calculate_price_impact_with_fee(reserve_a, reserve_b, trade_amount_b, fee_rate)\n",
    "print(f\"Price Impact: {impact:.2f}%\")\n"
   ]
  },
  {
   "cell_type": "code",
   "execution_count": null,
   "id": "53fc2643-601f-416b-ab3e-2153a952f846",
   "metadata": {},
   "outputs": [],
   "source": []
  },
  {
   "cell_type": "code",
   "execution_count": 8,
   "id": "eb2d26aa-7e33-4dd0-9be3-d697897e26ee",
   "metadata": {},
   "outputs": [
    {
     "name": "stdout",
     "output_type": "stream",
     "text": [
      "Required Additional Liquidity of Token B: 17893116.213486\n"
     ]
    }
   ],
   "source": [
    "def calculate_required_liquidity(reserve_token_a, reserve_token_b, token_b_amount, fee_rate=0.003, impact_limit=3.0):\n",
    "\n",
    "    # Binary search to find the additional liquidity needed\n",
    "    additional_liquidity_low, additional_liquidity_high = 0, 1e12  # Arbitrarily large upper bound\n",
    "    required_liquidity = 0\n",
    "\n",
    "    while additional_liquidity_high - additional_liquidity_low > 1e-6:  # Precision threshold\n",
    "        mid = (additional_liquidity_low + additional_liquidity_high) / 2\n",
    "        new_reserve_b = reserve_token_b + mid\n",
    "        impact = calculate_price_impact_with_fee(reserve_token_a, new_reserve_b, token_b_amount, fee_rate)\n",
    "        if impact < impact_limit:\n",
    "            required_liquidity = mid\n",
    "            additional_liquidity_high = mid\n",
    "        else:\n",
    "            additional_liquidity_low = mid\n",
    "\n",
    "    return required_liquidity\n",
    "\n",
    "# Example usage:\n",
    "reserve_a = 177350  # Reserve of token_a (olas)\n",
    "reserve_b = 290120  # Reserve of token_b (e.g., USD)\n",
    "trade_amount_b = eth_in_usd  # Amount of token_b to spend\n",
    "fee_rate = 0.003  # 0.3% fee\n",
    "impact_limit = 2.9  # Desired price impact limit (<3%)\n",
    "\n",
    "required_liquidity = calculate_required_liquidity(reserve_a, reserve_b, trade_amount_b, fee_rate, impact_limit)\n",
    "print(f\"Required Additional Liquidity of Token B: {required_liquidity:.6f}\")\n"
   ]
  },
  {
   "cell_type": "code",
   "execution_count": 55,
   "id": "09cddecc-473d-4fd5-9bf7-55dbe6e35148",
   "metadata": {},
   "outputs": [],
   "source": [
    "# Flashloans"
   ]
  },
  {
   "cell_type": "code",
   "execution_count": 58,
   "id": "cff531a3-2115-4354-955e-ac1e2bb5a01b",
   "metadata": {},
   "outputs": [],
   "source": [
    "# in order to get this liqudity we can look to borrow from AAVE and Balancer"
   ]
  },
  {
   "cell_type": "markdown",
   "id": "5bb60f89-1a3b-4b3a-bdf5-7123e789ab31",
   "metadata": {},
   "source": [
    "## AAVE Pools\n",
    "\n",
    "Aave has two markets we can look at;\n",
    "\n",
    "https://app.aave.com/reserve-overview/?underlyingAsset=0x833589fcd6edb6e08f4c7c32d4f71b54bda02913&marketName=proto_base_v3\n",
    "\n",
    "This has 8.13m Available directly as USDC\n",
    "\n"
   ]
  },
  {
   "cell_type": "markdown",
   "id": "38d080c5-0bbe-40b9-80b0-00dd591e7099",
   "metadata": {},
   "source": [
    "## Balancer pools\n",
    "balancer has an interesting factor whereby all assets in all pools are accessible as unified source of liqudity.\n",
    "\n",
    "Theoretically this would allow us to access all the usdc on the platform for the purpose of the flash\n",
    "\n",
    "This would enable us to access;\n",
    "\n",
    "At a minimum (we are only looking at top 3 pools for the purpose of this);\n",
    "\n",
    "3.76m https://balancer.fi/pools/base/v2/0x59501a303b1bdf5217617745acec4d99107383f0000200000000000000000197\n",
    "290k https://balancer.fi/pools/base/v2/0x5332584890d6e415a6dc910254d6430b8aab7e69000200000000000000000103\n",
    "165k https://balancer.fi/pools/base/v2/0x6c994a2ce94c36242669780804e9d5f2bdd96a980000000000000000000001a0\n",
    "\n",
    "4.2m "
   ]
  },
  {
   "cell_type": "markdown",
   "id": "8985dd91-0729-4702-bfdc-259d126c53d9",
   "metadata": {},
   "source": [
    "# Morpho Blue\n",
    "https://docs.morpho.org/morpho/tutorials/free-flash-loans\n",
    "\n",
    "morpho blue also offer free flash loans\n",
    "\n",
    "They have roughly 4m USDC of liquidity available"
   ]
  },
  {
   "cell_type": "code",
   "execution_count": 68,
   "id": "09ae0676-2952-4873-8da9-6d9d09e118f7",
   "metadata": {},
   "outputs": [
    {
     "name": "stdout",
     "output_type": "stream",
     "text": [
      "Shortfall USDC: 1563116\n",
      "Shortfall in ETH: 459.74\n"
     ]
    }
   ],
   "source": [
    "aave_usdc = 8130000\n",
    "bal_usdc   = 4200000\n",
    "morpho_usdc = 4_000_000\n",
    "shortfall = additional_funds - aave_usdc - bal_usdc - morpho_usdc\n",
    "print(f\"Shortfall USDC: {shortfall}\")\n",
    "\n",
    "print(f\"Shortfall in ETH: {shortfall / eth_price}\")"
   ]
  },
  {
   "cell_type": "markdown",
   "id": "7eca8abf-c556-4d8c-a53e-5ebab87f2ebe",
   "metadata": {},
   "source": [
    "## Shortfall\n",
    "\n",
    "We are unable to locate further USDC flashloanable assets, however we can use aerodrome to swap borrowed ETH to usd and back post unleashing\n",
    "\n",
    "https://app.aave.com/reserve-overview/?underlyingAsset=0x4200000000000000000000000000000000000006&marketName=proto_base_v3\n",
    "\n",
    "There is 17m of liquidity as ETH in this pool\n",
    "\n",
    "We lso have the balncer WETh avilable.\n",
    "\n"
   ]
  },
  {
   "cell_type": "code",
   "execution_count": 72,
   "id": "2818cca1-a131-48ce-bde8-e74376fe7464",
   "metadata": {},
   "outputs": [],
   "source": [
    "\n",
    "## Proposed FlashContract\n",
    "\n",
    "class AgentFunContract:\n",
    "    usdc = 0\n",
    "    weth = 0\n",
    "    olas = 0\n",
    "\n",
    "    def save_our_bacon(self):\n",
    "        self.usdc += self.bal_usdc_flash() \n",
    "        self.usdc += self.aave_usdc_flash()\n",
    "        self.usdc += self.morpho_usdc_flash()\n",
    "\n",
    "        self.weth += self.bal_weth_flash(shortfall)\n",
    "        self.swap_weth_usdc()\n",
    "\n",
    "        # we now have all the funds we need, in order to sandwich the unleash event, we will purchase some OLAS\n",
    "        self.olas += bal.swap(\"usdc\", \"olas\") # not quite sure what this should be optimally, or even to ensure our profit covers costs of all of this\n",
    "\n",
    "\n",
    "        bal.join(OLAS_POOL, self.usdc) # we ensure that we just provide the USDC here\n",
    "        self.usdc = 0\n",
    "        agent_fun.unleash()\n",
    "        # we know the price will have now pumped\n",
    "        # we need to withdraw our tokens;\n",
    "        usdc_amt, olas_amt = bal.leave(OLAS_POOL) # ensure we take out all lp\n",
    "        # we have to consider that we will get some olas which we need to sell to repay all lps. we are likely to get about 95% USDC with the rest as olas.\n",
    "        self.olas += olas_amt\n",
    "        # We sell all our olas\n",
    "        bal.sell_olas_to_usdc(self.olas)\n",
    "\n",
    "        # we repay all our loans\n",
    "        self.repay()\n",
    "\n",
    "        \n",
    "    def repay(self):\n",
    "        # we swap from USDC to weth\n",
    "        aerodrome.getExactTokensOut(\"USDC\", \"WETH\", self.weth_liability)\n",
    "        bal.repay_weth(self.weth_liability)\n",
    "        # We repay the usdc\n",
    "        bal.repay_usdc(self.bal_usdc_liability)\n",
    "\n",
    "        # we repay aave\n",
    "        aave.repay_usdc(self.aave_liability)\n",
    "\n",
    "        # we repay morpho\n",
    "        morpho.repay(self.morph_liability)\n",
    "        \n",
    "\n",
    "    def swap_weth_usdc(self):\n",
    "        self.usdc += aerodrome.swap(self.weth)\n",
    "        self.weth = 0\n",
    "        \n",
    "    def aave_usdc_flash(self):\n",
    "        self.aave_liability = aave.max_flash(usdc)\n",
    "        return self.aave_liability\n",
    "        \n",
    "    def bal_usdc_flash(self):\n",
    "        self.bal_usdc_liability =  bal.max_flash(usdc)\n",
    "        return self.bal_usdc_liability\n",
    "        \n",
    "    def morpho_usdc_flash(self):\n",
    "        self.morpho_liability =  morpho.max_flash(usdc)\n",
    "        return self.morpho_liability\n",
    "\n",
    "    def bal_weth_flash(self, required_usdc):\n",
    "        eth_price = aerodrome.get_price(WETH)\n",
    "        self.weth_liability = (required_usdc / eth_price) * 1.01 # safety margin of 1%\n",
    "        return bal.flash(\"weth\", self.weth_liability)\n",
    "\n",
    "\n",
    "    "
   ]
  },
  {
   "cell_type": "code",
   "execution_count": null,
   "id": "a7eaac6b-b5d3-4906-a021-71201e55750d",
   "metadata": {},
   "outputs": [],
   "source": []
  },
  {
   "cell_type": "code",
   "execution_count": null,
   "id": "c6214374-e715-44c3-b831-170f85185c95",
   "metadata": {},
   "outputs": [],
   "source": []
  }
 ],
 "metadata": {
  "kernelspec": {
   "display_name": "Python 3 (ipykernel)",
   "language": "python",
   "name": "python3"
  },
  "language_info": {
   "codemirror_mode": {
    "name": "ipython",
    "version": 3
   },
   "file_extension": ".py",
   "mimetype": "text/x-python",
   "name": "python",
   "nbconvert_exporter": "python",
   "pygments_lexer": "ipython3",
   "version": "3.10.4"
  }
 },
 "nbformat": 4,
 "nbformat_minor": 5
}
